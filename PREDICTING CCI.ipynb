{
 "cells": [
  {
   "cell_type": "code",
   "execution_count": 1,
   "id": "20f327e4",
   "metadata": {},
   "outputs": [],
   "source": [
    "import pandas as pd\n",
    "import numpy as np\n",
    "\n",
    "import matplotlib.pyplot as plt\n",
    "%matplotlib inline\n",
    "\n",
    "import seaborn as sns\n",
    "\n",
    "import statsmodels.api as sm\n",
    "\n",
    "import pmdarima as pm"
   ]
  },
  {
   "cell_type": "code",
   "execution_count": 3,
   "id": "4a040864",
   "metadata": {},
   "outputs": [
    {
     "data": {
      "text/html": [
       "<div>\n",
       "<style scoped>\n",
       "    .dataframe tbody tr th:only-of-type {\n",
       "        vertical-align: middle;\n",
       "    }\n",
       "\n",
       "    .dataframe tbody tr th {\n",
       "        vertical-align: top;\n",
       "    }\n",
       "\n",
       "    .dataframe thead th {\n",
       "        text-align: right;\n",
       "    }\n",
       "</style>\n",
       "<table border=\"1\" class=\"dataframe\">\n",
       "  <thead>\n",
       "    <tr style=\"text-align: right;\">\n",
       "      <th></th>\n",
       "      <th>TIME</th>\n",
       "      <th>CONSUMER CONF INDEX</th>\n",
       "    </tr>\n",
       "  </thead>\n",
       "  <tbody>\n",
       "    <tr>\n",
       "      <th>0</th>\n",
       "      <td>2014-01-01</td>\n",
       "      <td>99.33512</td>\n",
       "    </tr>\n",
       "    <tr>\n",
       "      <th>1</th>\n",
       "      <td>2014-02-01</td>\n",
       "      <td>99.40863</td>\n",
       "    </tr>\n",
       "    <tr>\n",
       "      <th>2</th>\n",
       "      <td>2014-03-01</td>\n",
       "      <td>99.44245</td>\n",
       "    </tr>\n",
       "    <tr>\n",
       "      <th>3</th>\n",
       "      <td>2014-04-01</td>\n",
       "      <td>99.51904</td>\n",
       "    </tr>\n",
       "    <tr>\n",
       "      <th>4</th>\n",
       "      <td>2014-05-01</td>\n",
       "      <td>99.50475</td>\n",
       "    </tr>\n",
       "  </tbody>\n",
       "</table>\n",
       "</div>"
      ],
      "text/plain": [
       "        TIME  CONSUMER CONF INDEX\n",
       "0 2014-01-01             99.33512\n",
       "1 2014-02-01             99.40863\n",
       "2 2014-03-01             99.44245\n",
       "3 2014-04-01             99.51904\n",
       "4 2014-05-01             99.50475"
      ]
     },
     "execution_count": 3,
     "metadata": {},
     "output_type": "execute_result"
    }
   ],
   "source": [
    "## Reading the Excel File\n",
    "df=pd.read_excel(r\"C:\\Users\\Shilpi\\OneDrive\\Desktop\\PROJECTS\\TIME SERIES\\CCI.xlsx\")\n",
    "df.head()"
   ]
  },
  {
   "cell_type": "code",
   "execution_count": 4,
   "id": "d42fa08c",
   "metadata": {},
   "outputs": [
    {
     "data": {
      "image/png": "[encoded data removed]",
      "text/plain": [
       "<Figure size 432x288 with 1 Axes>"
      ]
     },
     "metadata": {
      "needs_background": "light"
     },
     "output_type": "display_data"
    }
   ],
   "source": [
    "#plot time series\n",
    "plt.plot(df['TIME'],df['CONSUMER CONF INDEX'])\n",
    "plt.title('CCI Monthly Trend')\n",
    "\n",
    "plt.show()"
   ]
  },
  {
   "cell_type": "code",
   "execution_count": 5,
   "id": "68c548b6",
   "metadata": {},
   "outputs": [
    {
     "name": "stderr",
     "output_type": "stream",
     "text": [
      "C:\\Users\\Shilpi\\anaconda3\\lib\\site-packages\\seaborn\\_decorators.py:36: FutureWarning: Pass the following variable as a keyword arg: x. From version 0.12, the only valid positional argument will be `data`, and passing other arguments without an explicit keyword will result in an error or misinterpretation.\n",
      "  warnings.warn(\n"
     ]
    },
    {
     "data": {
      "image/png": "[encoded data removed]",
      "text/plain": [
       "<Figure size 432x288 with 1 Axes>"
      ]
     },
     "metadata": {
      "needs_background": "light"
     },
     "output_type": "display_data"
    }
   ],
   "source": [
    "#identify outliers\n",
    "\n",
    "sns.boxplot(df['CONSUMER CONF INDEX'])\n",
    "plt.show()\n",
    "               "
   ]
  },
  {
   "cell_type": "code",
   "execution_count": 31,
   "id": "dbd0038e",
   "metadata": {},
   "outputs": [],
   "source": [
    "#outlier treatment\n",
    "q1=df['CONSUMER CONF INDEX'].quantile(0.25)\n",
    "q3=df['CONSUMER CONF INDEX'].quantile(0.75)\n",
    "iqr=q3-q1\n",
    "\n",
    "upper=q3+1.5*iqr\n",
    "lower=q1-1.5*iqr\n",
    "\n"
   ]
  },
  {
   "cell_type": "code",
   "execution_count": 32,
   "id": "ffd7bde3",
   "metadata": {},
   "outputs": [],
   "source": [
    "#iqr \n",
    "df['CONSUMER CONF INDEX']=np.where(df['CONSUMER CONF INDEX']>upper,upper,\n",
    "                                  np.where(df['CONSUMER CONF INDEX']<lower,lower,df['CONSUMER CONF INDEX']))"
   ]
  },
  {
   "cell_type": "code",
   "execution_count": 33,
   "id": "75a655d4",
   "metadata": {},
   "outputs": [
    {
     "name": "stderr",
     "output_type": "stream",
     "text": [
      "C:\\Users\\Shilpi\\anaconda3\\lib\\site-packages\\seaborn\\_decorators.py:36: FutureWarning: Pass the following variable as a keyword arg: x. From version 0.12, the only valid positional argument will be `data`, and passing other arguments without an explicit keyword will result in an error or misinterpretation.\n",
      "  warnings.warn(\n"
     ]
    },
    {
     "data": {
      "image/png": "[encoded data removed]",
      "text/plain": [
       "<Figure size 432x288 with 1 Axes>"
      ]
     },
     "metadata": {
      "needs_background": "light"
     },
     "output_type": "display_data"
    }
   ],
   "source": [
    "sns.boxplot(df['CONSUMER CONF INDEX'])\n",
    "plt.show()"
   ]
  },
  {
   "cell_type": "code",
   "execution_count": 9,
   "id": "acabfbdc",
   "metadata": {},
   "outputs": [
    {
     "data": {
      "text/plain": [
       "TIME                   0\n",
       "CONSUMER CONF INDEX    0\n",
       "dtype: int64"
      ]
     },
     "execution_count": 9,
     "metadata": {},
     "output_type": "execute_result"
    }
   ],
   "source": [
    "#check nulls\n",
    "df.isna().sum()"
   ]
  },
  {
   "cell_type": "code",
   "execution_count": 10,
   "id": "f241d0f0",
   "metadata": {},
   "outputs": [],
   "source": [
    "#split data into training and test set"
   ]
  },
  {
   "cell_type": "code",
   "execution_count": 11,
   "id": "4bb314c2",
   "metadata": {},
   "outputs": [
    {
     "data": {
      "text/html": [
       "<div>\n",
       "<style scoped>\n",
       "    .dataframe tbody tr th:only-of-type {\n",
       "        vertical-align: middle;\n",
       "    }\n",
       "\n",
       "    .dataframe tbody tr th {\n",
       "        vertical-align: top;\n",
       "    }\n",
       "\n",
       "    .dataframe thead th {\n",
       "        text-align: right;\n",
       "    }\n",
       "</style>\n",
       "<table border=\"1\" class=\"dataframe\">\n",
       "  <thead>\n",
       "    <tr style=\"text-align: right;\">\n",
       "      <th></th>\n",
       "      <th>TIME</th>\n",
       "      <th>CONSUMER CONF INDEX</th>\n",
       "    </tr>\n",
       "  </thead>\n",
       "  <tbody>\n",
       "    <tr>\n",
       "      <th>93</th>\n",
       "      <td>2021-10-01</td>\n",
       "      <td>98.07962</td>\n",
       "    </tr>\n",
       "    <tr>\n",
       "      <th>94</th>\n",
       "      <td>2021-11-01</td>\n",
       "      <td>97.91412</td>\n",
       "    </tr>\n",
       "    <tr>\n",
       "      <th>95</th>\n",
       "      <td>2021-12-01</td>\n",
       "      <td>97.81084</td>\n",
       "    </tr>\n",
       "    <tr>\n",
       "      <th>96</th>\n",
       "      <td>2022-01-01</td>\n",
       "      <td>97.57133</td>\n",
       "    </tr>\n",
       "    <tr>\n",
       "      <th>97</th>\n",
       "      <td>2022-02-01</td>\n",
       "      <td>97.25768</td>\n",
       "    </tr>\n",
       "    <tr>\n",
       "      <th>98</th>\n",
       "      <td>2022-03-01</td>\n",
       "      <td>97.01434</td>\n",
       "    </tr>\n",
       "    <tr>\n",
       "      <th>99</th>\n",
       "      <td>2022-04-01</td>\n",
       "      <td>96.84113</td>\n",
       "    </tr>\n",
       "    <tr>\n",
       "      <th>100</th>\n",
       "      <td>2022-05-01</td>\n",
       "      <td>96.49880</td>\n",
       "    </tr>\n",
       "    <tr>\n",
       "      <th>101</th>\n",
       "      <td>2022-06-01</td>\n",
       "      <td>96.49880</td>\n",
       "    </tr>\n",
       "    <tr>\n",
       "      <th>102</th>\n",
       "      <td>2022-07-01</td>\n",
       "      <td>96.49880</td>\n",
       "    </tr>\n",
       "    <tr>\n",
       "      <th>103</th>\n",
       "      <td>2022-08-01</td>\n",
       "      <td>96.49880</td>\n",
       "    </tr>\n",
       "    <tr>\n",
       "      <th>104</th>\n",
       "      <td>2022-09-01</td>\n",
       "      <td>96.66169</td>\n",
       "    </tr>\n",
       "  </tbody>\n",
       "</table>\n",
       "</div>"
      ],
      "text/plain": [
       "          TIME  CONSUMER CONF INDEX\n",
       "93  2021-10-01             98.07962\n",
       "94  2021-11-01             97.91412\n",
       "95  2021-12-01             97.81084\n",
       "96  2022-01-01             97.57133\n",
       "97  2022-02-01             97.25768\n",
       "98  2022-03-01             97.01434\n",
       "99  2022-04-01             96.84113\n",
       "100 2022-05-01             96.49880\n",
       "101 2022-06-01             96.49880\n",
       "102 2022-07-01             96.49880\n",
       "103 2022-08-01             96.49880\n",
       "104 2022-09-01             96.66169"
      ]
     },
     "execution_count": 11,
     "metadata": {},
     "output_type": "execute_result"
    }
   ],
   "source": [
    "df.tail(12)"
   ]
  },
  {
   "cell_type": "code",
   "execution_count": 12,
   "id": "3d17b77e",
   "metadata": {},
   "outputs": [
    {
     "data": {
      "text/html": [
       "<div>\n",
       "<style scoped>\n",
       "    .dataframe tbody tr th:only-of-type {\n",
       "        vertical-align: middle;\n",
       "    }\n",
       "\n",
       "    .dataframe tbody tr th {\n",
       "        vertical-align: top;\n",
       "    }\n",
       "\n",
       "    .dataframe thead th {\n",
       "        text-align: right;\n",
       "    }\n",
       "</style>\n",
       "<table border=\"1\" class=\"dataframe\">\n",
       "  <thead>\n",
       "    <tr style=\"text-align: right;\">\n",
       "      <th></th>\n",
       "      <th>TIME</th>\n",
       "      <th>CONSUMER CONF INDEX</th>\n",
       "    </tr>\n",
       "  </thead>\n",
       "  <tbody>\n",
       "    <tr>\n",
       "      <th>0</th>\n",
       "      <td>2014-01-01</td>\n",
       "      <td>99.33512</td>\n",
       "    </tr>\n",
       "    <tr>\n",
       "      <th>1</th>\n",
       "      <td>2014-02-01</td>\n",
       "      <td>99.40863</td>\n",
       "    </tr>\n",
       "    <tr>\n",
       "      <th>2</th>\n",
       "      <td>2014-03-01</td>\n",
       "      <td>99.44245</td>\n",
       "    </tr>\n",
       "    <tr>\n",
       "      <th>3</th>\n",
       "      <td>2014-04-01</td>\n",
       "      <td>99.51904</td>\n",
       "    </tr>\n",
       "    <tr>\n",
       "      <th>4</th>\n",
       "      <td>2014-05-01</td>\n",
       "      <td>99.50475</td>\n",
       "    </tr>\n",
       "    <tr>\n",
       "      <th>...</th>\n",
       "      <td>...</td>\n",
       "      <td>...</td>\n",
       "    </tr>\n",
       "    <tr>\n",
       "      <th>88</th>\n",
       "      <td>2021-05-01</td>\n",
       "      <td>99.84676</td>\n",
       "    </tr>\n",
       "    <tr>\n",
       "      <th>89</th>\n",
       "      <td>2021-06-01</td>\n",
       "      <td>99.63269</td>\n",
       "    </tr>\n",
       "    <tr>\n",
       "      <th>90</th>\n",
       "      <td>2021-07-01</td>\n",
       "      <td>99.15526</td>\n",
       "    </tr>\n",
       "    <tr>\n",
       "      <th>91</th>\n",
       "      <td>2021-08-01</td>\n",
       "      <td>98.57474</td>\n",
       "    </tr>\n",
       "    <tr>\n",
       "      <th>92</th>\n",
       "      <td>2021-09-01</td>\n",
       "      <td>98.26997</td>\n",
       "    </tr>\n",
       "  </tbody>\n",
       "</table>\n",
       "<p>93 rows × 2 columns</p>\n",
       "</div>"
      ],
      "text/plain": [
       "         TIME  CONSUMER CONF INDEX\n",
       "0  2014-01-01             99.33512\n",
       "1  2014-02-01             99.40863\n",
       "2  2014-03-01             99.44245\n",
       "3  2014-04-01             99.51904\n",
       "4  2014-05-01             99.50475\n",
       "..        ...                  ...\n",
       "88 2021-05-01             99.84676\n",
       "89 2021-06-01             99.63269\n",
       "90 2021-07-01             99.15526\n",
       "91 2021-08-01             98.57474\n",
       "92 2021-09-01             98.26997\n",
       "\n",
       "[93 rows x 2 columns]"
      ]
     },
     "execution_count": 12,
     "metadata": {},
     "output_type": "execute_result"
    }
   ],
   "source": [
    "train_set=df[df['TIME']<'2021-10-01']\n",
    "train_set"
   ]
  },
  {
   "cell_type": "code",
   "execution_count": 13,
   "id": "49a7f087",
   "metadata": {},
   "outputs": [
    {
     "data": {
      "text/html": [
       "<div>\n",
       "<style scoped>\n",
       "    .dataframe tbody tr th:only-of-type {\n",
       "        vertical-align: middle;\n",
       "    }\n",
       "\n",
       "    .dataframe tbody tr th {\n",
       "        vertical-align: top;\n",
       "    }\n",
       "\n",
       "    .dataframe thead th {\n",
       "        text-align: right;\n",
       "    }\n",
       "</style>\n",
       "<table border=\"1\" class=\"dataframe\">\n",
       "  <thead>\n",
       "    <tr style=\"text-align: right;\">\n",
       "      <th></th>\n",
       "      <th>TIME</th>\n",
       "      <th>CONSUMER CONF INDEX</th>\n",
       "    </tr>\n",
       "  </thead>\n",
       "  <tbody>\n",
       "    <tr>\n",
       "      <th>93</th>\n",
       "      <td>2021-10-01</td>\n",
       "      <td>98.07962</td>\n",
       "    </tr>\n",
       "    <tr>\n",
       "      <th>94</th>\n",
       "      <td>2021-11-01</td>\n",
       "      <td>97.91412</td>\n",
       "    </tr>\n",
       "    <tr>\n",
       "      <th>95</th>\n",
       "      <td>2021-12-01</td>\n",
       "      <td>97.81084</td>\n",
       "    </tr>\n",
       "    <tr>\n",
       "      <th>96</th>\n",
       "      <td>2022-01-01</td>\n",
       "      <td>97.57133</td>\n",
       "    </tr>\n",
       "    <tr>\n",
       "      <th>97</th>\n",
       "      <td>2022-02-01</td>\n",
       "      <td>97.25768</td>\n",
       "    </tr>\n",
       "    <tr>\n",
       "      <th>98</th>\n",
       "      <td>2022-03-01</td>\n",
       "      <td>97.01434</td>\n",
       "    </tr>\n",
       "    <tr>\n",
       "      <th>99</th>\n",
       "      <td>2022-04-01</td>\n",
       "      <td>96.84113</td>\n",
       "    </tr>\n",
       "    <tr>\n",
       "      <th>100</th>\n",
       "      <td>2022-05-01</td>\n",
       "      <td>96.49880</td>\n",
       "    </tr>\n",
       "    <tr>\n",
       "      <th>101</th>\n",
       "      <td>2022-06-01</td>\n",
       "      <td>96.49880</td>\n",
       "    </tr>\n",
       "    <tr>\n",
       "      <th>102</th>\n",
       "      <td>2022-07-01</td>\n",
       "      <td>96.49880</td>\n",
       "    </tr>\n",
       "    <tr>\n",
       "      <th>103</th>\n",
       "      <td>2022-08-01</td>\n",
       "      <td>96.49880</td>\n",
       "    </tr>\n",
       "    <tr>\n",
       "      <th>104</th>\n",
       "      <td>2022-09-01</td>\n",
       "      <td>96.66169</td>\n",
       "    </tr>\n",
       "  </tbody>\n",
       "</table>\n",
       "</div>"
      ],
      "text/plain": [
       "          TIME  CONSUMER CONF INDEX\n",
       "93  2021-10-01             98.07962\n",
       "94  2021-11-01             97.91412\n",
       "95  2021-12-01             97.81084\n",
       "96  2022-01-01             97.57133\n",
       "97  2022-02-01             97.25768\n",
       "98  2022-03-01             97.01434\n",
       "99  2022-04-01             96.84113\n",
       "100 2022-05-01             96.49880\n",
       "101 2022-06-01             96.49880\n",
       "102 2022-07-01             96.49880\n",
       "103 2022-08-01             96.49880\n",
       "104 2022-09-01             96.66169"
      ]
     },
     "execution_count": 13,
     "metadata": {},
     "output_type": "execute_result"
    }
   ],
   "source": [
    "test_set=df[df['TIME']>='2021-10-01']\n",
    "test_set"
   ]
  },
  {
   "cell_type": "code",
   "execution_count": 14,
   "id": "2fab61e0",
   "metadata": {},
   "outputs": [
    {
     "data": {
      "text/plain": [
       "(12, 2)"
      ]
     },
     "execution_count": 14,
     "metadata": {},
     "output_type": "execute_result"
    }
   ],
   "source": [
    "test_set.shape"
   ]
  },
  {
   "cell_type": "code",
   "execution_count": 15,
   "id": "8c6cb01f",
   "metadata": {},
   "outputs": [
    {
     "name": "stderr",
     "output_type": "stream",
     "text": [
      "C:\\Users\\Shilpi\\AppData\\Local\\Temp\\ipykernel_21868\\90230262.py:2: SettingWithCopyWarning: \n",
      "A value is trying to be set on a copy of a slice from a DataFrame.\n",
      "Try using .loc[row_indexer,col_indexer] = value instead\n",
      "\n",
      "See the caveats in the documentation: https://pandas.pydata.org/pandas-docs/stable/user_guide/indexing.html#returning-a-view-versus-a-copy\n",
      "  train_set['TIME']=pd.to_datetime(train_set['TIME'],infer_datetime_format=True)\n"
     ]
    }
   ],
   "source": [
    "#set index to 'date'\n",
    "train_set['TIME']=pd.to_datetime(train_set['TIME'],infer_datetime_format=True)\n",
    "train_set.set_index('TIME',inplace=True)"
   ]
  },
  {
   "cell_type": "code",
   "execution_count": 16,
   "id": "759dc15a",
   "metadata": {},
   "outputs": [
    {
     "name": "stderr",
     "output_type": "stream",
     "text": [
      "C:\\Users\\Shilpi\\AppData\\Local\\Temp\\ipykernel_21868\\1195303420.py:1: SettingWithCopyWarning: \n",
      "A value is trying to be set on a copy of a slice from a DataFrame.\n",
      "Try using .loc[row_indexer,col_indexer] = value instead\n",
      "\n",
      "See the caveats in the documentation: https://pandas.pydata.org/pandas-docs/stable/user_guide/indexing.html#returning-a-view-versus-a-copy\n",
      "  test_set['TIME']=pd.to_datetime(test_set['TIME'],infer_datetime_format=True)\n"
     ]
    }
   ],
   "source": [
    "test_set['TIME']=pd.to_datetime(test_set['TIME'],infer_datetime_format=True)\n",
    "test_set.set_index('TIME',inplace=True)"
   ]
  },
  {
   "cell_type": "code",
   "execution_count": 17,
   "id": "b18ef391",
   "metadata": {},
   "outputs": [],
   "source": [
    "#run autoarima to determine best parameters"
   ]
  },
  {
   "cell_type": "code",
   "execution_count": 18,
   "id": "ebbc0170",
   "metadata": {},
   "outputs": [
    {
     "name": "stderr",
     "output_type": "stream",
     "text": [
      "C:\\Users\\Shilpi\\anaconda3\\lib\\site-packages\\pmdarima\\arima\\_validation.py:76: UserWarning: stepwise model cannot be fit in parallel (n_jobs=1). Falling back to stepwise parameter search.\n",
      "  warnings.warn('stepwise model cannot be fit in parallel (n_jobs=%i). '\n"
     ]
    },
    {
     "data": {
      "text/plain": [
       "ARIMA(maxiter=100, order=(2, 1, 1), scoring_args={},\n",
       "      seasonal_order=(0, 0, 0, 12), suppress_warnings=True,\n",
       "      with_intercept=False)"
      ]
     },
     "execution_count": 18,
     "metadata": {},
     "output_type": "execute_result"
    }
   ],
   "source": [
    "auto_arima=pm.auto_arima(train_set['CONSUMER CONF INDEX'],\n",
    "                         seasonal=True,\n",
    "                         m=12,\n",
    "                         start_p=1,\n",
    "                         start_q=1,\n",
    "                         max_order=None,\n",
    "                         start_d=1,\n",
    "                         start_P=0,\n",
    "                         start_Q=0,\n",
    "                         max_p=7,\n",
    "                         max_q=7,\n",
    "                         max_d=2,\n",
    "                         max_P=7,\n",
    "                         max_Q=7,\n",
    "                         max_D=2,\n",
    "                         maxiter=100,\n",
    "                         n_jobs=-1,\n",
    "                         information_criterion='aic',\n",
    "                         test='adf',\n",
    "                         stepwise=True,\n",
    "                         error_action='ignore',\n",
    "                         suppress_warnings=True)\n",
    "auto_arima.fit(train_set['CONSUMER CONF INDEX'])"
   ]
  },
  {
   "cell_type": "code",
   "execution_count": 19,
   "id": "c3b39abb",
   "metadata": {},
   "outputs": [],
   "source": [
    "import statsmodels.api as sm\n",
    "from statsmodels.tsa.statespace.sarimax import SARIMAX"
   ]
  },
  {
   "cell_type": "code",
   "execution_count": 20,
   "id": "e5f07eb7",
   "metadata": {},
   "outputs": [
    {
     "name": "stderr",
     "output_type": "stream",
     "text": [
      "C:\\Users\\Shilpi\\AppData\\Local\\Temp\\ipykernel_21868\\290211002.py:2: SettingWithCopyWarning: \n",
      "A value is trying to be set on a copy of a slice from a DataFrame.\n",
      "Try using .loc[row_indexer,col_indexer] = value instead\n",
      "\n",
      "See the caveats in the documentation: https://pandas.pydata.org/pandas-docs/stable/user_guide/indexing.html#returning-a-view-versus-a-copy\n",
      "  test_set['arima_predictions']=auto_arima.predict(len(test_set),dynamic=False,typ='levels')\n"
     ]
    },
    {
     "data": {
      "text/html": [
       "<div>\n",
       "<style scoped>\n",
       "    .dataframe tbody tr th:only-of-type {\n",
       "        vertical-align: middle;\n",
       "    }\n",
       "\n",
       "    .dataframe tbody tr th {\n",
       "        vertical-align: top;\n",
       "    }\n",
       "\n",
       "    .dataframe thead th {\n",
       "        text-align: right;\n",
       "    }\n",
       "</style>\n",
       "<table border=\"1\" class=\"dataframe\">\n",
       "  <thead>\n",
       "    <tr style=\"text-align: right;\">\n",
       "      <th></th>\n",
       "      <th>CONSUMER CONF INDEX</th>\n",
       "      <th>arima_predictions</th>\n",
       "    </tr>\n",
       "    <tr>\n",
       "      <th>TIME</th>\n",
       "      <th></th>\n",
       "      <th></th>\n",
       "    </tr>\n",
       "  </thead>\n",
       "  <tbody>\n",
       "    <tr>\n",
       "      <th>2021-10-01</th>\n",
       "      <td>98.07962</td>\n",
       "      <td>98.291594</td>\n",
       "    </tr>\n",
       "    <tr>\n",
       "      <th>2021-11-01</th>\n",
       "      <td>97.91412</td>\n",
       "      <td>98.476272</td>\n",
       "    </tr>\n",
       "    <tr>\n",
       "      <th>2021-12-01</th>\n",
       "      <td>97.81084</td>\n",
       "      <td>98.661145</td>\n",
       "    </tr>\n",
       "    <tr>\n",
       "      <th>2022-01-01</th>\n",
       "      <td>97.57133</td>\n",
       "      <td>98.759720</td>\n",
       "    </tr>\n",
       "    <tr>\n",
       "      <th>2022-02-01</th>\n",
       "      <td>97.25768</td>\n",
       "      <td>98.766442</td>\n",
       "    </tr>\n",
       "    <tr>\n",
       "      <th>2022-03-01</th>\n",
       "      <td>97.01434</td>\n",
       "      <td>98.721292</td>\n",
       "    </tr>\n",
       "    <tr>\n",
       "      <th>2022-04-01</th>\n",
       "      <td>96.84113</td>\n",
       "      <td>98.669724</td>\n",
       "    </tr>\n",
       "    <tr>\n",
       "      <th>2022-05-01</th>\n",
       "      <td>96.49880</td>\n",
       "      <td>98.638851</td>\n",
       "    </tr>\n",
       "    <tr>\n",
       "      <th>2022-06-01</th>\n",
       "      <td>96.49880</td>\n",
       "      <td>98.633386</td>\n",
       "    </tr>\n",
       "    <tr>\n",
       "      <th>2022-07-01</th>\n",
       "      <td>96.49880</td>\n",
       "      <td>98.643955</td>\n",
       "    </tr>\n",
       "    <tr>\n",
       "      <th>2022-08-01</th>\n",
       "      <td>96.49880</td>\n",
       "      <td>98.658091</td>\n",
       "    </tr>\n",
       "    <tr>\n",
       "      <th>2022-09-01</th>\n",
       "      <td>96.66169</td>\n",
       "      <td>98.667513</td>\n",
       "    </tr>\n",
       "  </tbody>\n",
       "</table>\n",
       "</div>"
      ],
      "text/plain": [
       "            CONSUMER CONF INDEX  arima_predictions\n",
       "TIME                                              \n",
       "2021-10-01             98.07962          98.291594\n",
       "2021-11-01             97.91412          98.476272\n",
       "2021-12-01             97.81084          98.661145\n",
       "2022-01-01             97.57133          98.759720\n",
       "2022-02-01             97.25768          98.766442\n",
       "2022-03-01             97.01434          98.721292\n",
       "2022-04-01             96.84113          98.669724\n",
       "2022-05-01             96.49880          98.638851\n",
       "2022-06-01             96.49880          98.633386\n",
       "2022-07-01             96.49880          98.643955\n",
       "2022-08-01             96.49880          98.658091\n",
       "2022-09-01             96.66169          98.667513"
      ]
     },
     "execution_count": 20,
     "metadata": {},
     "output_type": "execute_result"
    }
   ],
   "source": [
    "#obtain predictions\n",
    "test_set['arima_predictions']=auto_arima.predict(len(test_set),dynamic=False,typ='levels')\n",
    "test_set"
   ]
  },
  {
   "cell_type": "markdown",
   "id": "83ab18bb",
   "metadata": {},
   "source": [
    "# train, test and predicted test"
   ]
  },
  {
   "cell_type": "code",
   "execution_count": 21,
   "id": "9a00fe93",
   "metadata": {},
   "outputs": [
    {
     "data": {
      "image/png": "[encoded data removed]",
      "text/plain": [
       "<Figure size 432x288 with 1 Axes>"
      ]
     },
     "metadata": {
      "needs_background": "light"
     },
     "output_type": "display_data"
    }
   ],
   "source": [
    "train_set['CONSUMER CONF INDEX'].plot(label='training set',color='b')\n",
    "test_set['CONSUMER CONF INDEX'].plot(label='test set',linestyle='dashed')\n",
    "test_set['arima_predictions'].plot(label='predicted test',color='r')\n",
    "\n",
    "plt.show()\n"
   ]
  },
  {
   "cell_type": "code",
   "execution_count": 22,
   "id": "485b2dbf",
   "metadata": {},
   "outputs": [],
   "source": [
    "#calculate MAE, MAPE"
   ]
  },
  {
   "cell_type": "code",
   "execution_count": 23,
   "id": "307e3cef",
   "metadata": {},
   "outputs": [
    {
     "data": {
      "text/plain": [
       "1.5368361701523934"
      ]
     },
     "execution_count": 23,
     "metadata": {},
     "output_type": "execute_result"
    }
   ],
   "source": [
    "from sklearn.metrics import mean_absolute_error\n",
    "mean_absolute_error(test_set['CONSUMER CONF INDEX'],test_set['arima_predictions'])"
   ]
  },
  {
   "cell_type": "code",
   "execution_count": 24,
   "id": "527ca217",
   "metadata": {},
   "outputs": [
    {
     "data": {
      "text/plain": [
       "0.01586836235905059"
      ]
     },
     "execution_count": 24,
     "metadata": {},
     "output_type": "execute_result"
    }
   ],
   "source": [
    "from sklearn.metrics import mean_absolute_percentage_error\n",
    "mean_absolute_percentage_error(test_set['CONSUMER CONF INDEX'],test_set['arima_predictions'])"
   ]
  },
  {
   "cell_type": "code",
   "execution_count": 25,
   "id": "9dde00f0",
   "metadata": {},
   "outputs": [
    {
     "data": {
      "image/png": "[encoded data removed]",
      "text/plain": [
       "<Figure size 432x288 with 4 Axes>"
      ]
     },
     "metadata": {
      "needs_background": "light"
     },
     "output_type": "display_data"
    }
   ],
   "source": [
    "auto_arima.plot_diagnostics()\n",
    "\n",
    "plt.show()"
   ]
  },
  {
   "cell_type": "markdown",
   "id": "0c5237b6",
   "metadata": {},
   "source": [
    "# retrain model on full data\n",
    "# ARIMA(2,1,1)(0,0,0)[12]     "
   ]
  },
  {
   "cell_type": "code",
   "execution_count": 26,
   "id": "fb13f2e8",
   "metadata": {},
   "outputs": [],
   "source": [
    "df['TIME']=pd.to_datetime(df['TIME'],infer_datetime_format=True)\n",
    "df.set_index('TIME',inplace=True)"
   ]
  },
  {
   "cell_type": "code",
   "execution_count": 27,
   "id": "614c5fa3",
   "metadata": {},
   "outputs": [
    {
     "name": "stderr",
     "output_type": "stream",
     "text": [
      "C:\\Users\\Shilpi\\anaconda3\\lib\\site-packages\\statsmodels\\tsa\\base\\tsa_model.py:471: ValueWarning: No frequency information was provided, so inferred frequency MS will be used.\n",
      "  self._init_dates(dates, freq)\n",
      "C:\\Users\\Shilpi\\anaconda3\\lib\\site-packages\\statsmodels\\tsa\\base\\tsa_model.py:471: ValueWarning: No frequency information was provided, so inferred frequency MS will be used.\n",
      "  self._init_dates(dates, freq)\n"
     ]
    }
   ],
   "source": [
    "smodel=SARIMAX(df['CONSUMER CONF INDEX'],order=(2,1,1),seasonal_order=(0,0,0,12))\n",
    "smodel=smodel.fit()"
   ]
  },
  {
   "cell_type": "code",
   "execution_count": 28,
   "id": "a2c86f14",
   "metadata": {},
   "outputs": [
    {
     "data": {
      "text/plain": [
       "2022-10-01    96.871053\n",
       "2022-11-01    97.012597\n",
       "2022-12-01    97.064143\n",
       "2023-01-01    97.053863\n",
       "2023-02-01    97.020425\n",
       "2023-03-01    96.990817\n",
       "2023-04-01    96.975429\n",
       "2023-05-01    96.972870\n",
       "2023-06-01    96.977101\n",
       "2023-07-01    96.982563\n",
       "2023-08-01    96.986265\n",
       "2023-09-01    96.987619\n",
       "Freq: MS, Name: predicted_mean, dtype: float64"
      ]
     },
     "execution_count": 28,
     "metadata": {},
     "output_type": "execute_result"
    }
   ],
   "source": [
    "sarima_forecast=smodel.predict(len(df),len(df)+11,typ='levels')\n",
    "sarima_forecast"
   ]
  },
  {
   "cell_type": "code",
   "execution_count": 29,
   "id": "a0d414a0",
   "metadata": {},
   "outputs": [],
   "source": [
    "#plot forecasted values"
   ]
  },
  {
   "cell_type": "code",
   "execution_count": 30,
   "id": "d0b2796d",
   "metadata": {},
   "outputs": [
    {
     "data": {
      "image/png": "[encoded data removed]",
      "text/plain": [
       "<Figure size 432x288 with 1 Axes>"
      ]
     },
     "metadata": {
      "needs_background": "light"
     },
     "output_type": "display_data"
    }
   ],
   "source": [
    "plt.plot(df['CONSUMER CONF INDEX'],label='actual')\n",
    "plt.plot(sarima_forecast,label='forecasted values')\n",
    "\n",
    "plt.show()"
   ]
  },
  {
   "cell_type": "markdown",
   "id": "1513f89d",
   "metadata": {},
   "source": [
    "\n"
   ]
  },
  {
   "cell_type": "code",
   "execution_count": null,
   "id": "140d3dd7",
   "metadata": {},
   "outputs": [],
   "source": []
  }
 ],
 "metadata": {
  "kernelspec": {
   "display_name": "Python 3 (ipykernel)",
   "language": "python",
   "name": "python3"
  },
  "language_info": {
   "codemirror_mode": {
    "name": "ipython",
    "version": 3
   },
   "file_extension": ".py",
   "mimetype": "text/x-python",
   "name": "python",
   "nbconvert_exporter": "python",
   "pygments_lexer": "ipython3",
   "version": "3.9.12"
  }
 },
 "nbformat": 4,
 "nbformat_minor": 5
}
